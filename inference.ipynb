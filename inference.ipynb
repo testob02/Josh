{
 "cells": [
  {
   "cell_type": "code",
   "execution_count": null,
   "metadata": {},
   "outputs": [],
   "source": [
    "import joblib\n",
    "import tensorflow as tf\n",
    "import numpy as np\n",
    "\n",
    "labels = []\n",
    "with open('labels.txt','r') as f:\n",
    "    for f in f.readlines():\n",
    "        labels.append(f.split('\\t')[1].strip())\n",
    "\n",
    "\n",
    "files_list = ['logistic_regression.pkl',\n",
    "              'decision_tree.pkl',\n",
    "              'k_neighbors.pkl',\n",
    "              'random_forest.pkl',\n",
    "              'gradient_boost.pkl',\n",
    "              'x_gradient_boost.pkl',\n",
    "              'stacking.pkl',\n",
    "              'neural_network.keras']\n",
    "def get_predictions(model_num,features):\n",
    "    features = np.reshape(features,[1,5])\n",
    "    if model_num in range(1,8):\n",
    "        model = joblib.load(files_list[model_num-1])\n",
    "        pred = model.predict(features)\n",
    "\n",
    "    elif model_num == 8:\n",
    "        model = tf.keras.models.load_model(files_list[model_num-1])\n",
    "        pred = tf.argmax(model.predict(features),-1)\n",
    "        \n",
    "    return labels[pred[0]]\n",
    "\n",
    "\n",
    "features = []\n",
    "feature_list = ['CO_Room','H2_Room','Humidity_Room','Temperature_Room','VOC_Room_RAW']\n",
    "for i in range(5):\n",
    "    features.append(float(input(f'Enter the {feature_list[i]} value\\t')))\n",
    "\n",
    "\n",
    "model_num = int(input(f'Which model to use......\\n\\\n",
    "                1.Logistic Regression\\n\\\n",
    "                2.Decision Tree\\n\\\n",
    "                3.KNeighbors\\n\\\n",
    "                4.Random Forest\\n\\\n",
    "                5.Gradient Boosting\\n\\\n",
    "                6.Extreme Gradient Boosting\\n\\\n",
    "                7.Stacking\\n\\\n",
    "                8.Neural Network\\n'))\n",
    "\n",
    "print(get_predictions(model_num,features))\n"
   ]
  }
 ],
 "metadata": {
  "kernelspec": {
   "display_name": "tf",
   "language": "python",
   "name": "python3"
  },
  "language_info": {
   "codemirror_mode": {
    "name": "ipython",
    "version": 3
   },
   "file_extension": ".py",
   "mimetype": "text/x-python",
   "name": "python",
   "nbconvert_exporter": "python",
   "pygments_lexer": "ipython3",
   "version": "3.9.19"
  }
 },
 "nbformat": 4,
 "nbformat_minor": 2
}
